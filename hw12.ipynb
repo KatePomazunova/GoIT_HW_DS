{
  "nbformat": 4,
  "nbformat_minor": 0,
  "metadata": {
    "colab": {
      "provenance": [],
      "authorship_tag": "ABX9TyM6w/lQxcn1Pt0SrdRquRHc",
      "include_colab_link": true
    },
    "kernelspec": {
      "name": "python3",
      "display_name": "Python 3"
    },
    "language_info": {
      "name": "python"
    }
  },
  "cells": [
    {
      "cell_type": "markdown",
      "metadata": {
        "id": "view-in-github",
        "colab_type": "text"
      },
      "source": [
        "<a href=\"https://colab.research.google.com/github/KatePomazunova/GoIT_HW_DS/blob/main/hw12.ipynb\" target=\"_parent\"><img src=\"https://colab.research.google.com/assets/colab-badge.svg\" alt=\"Open In Colab\"/></a>"
      ]
    },
    {
      "cell_type": "markdown",
      "source": [
        "The Orbiter Discovery, OV-103, is considered eligible for listing in the National Register of Historic Places (NRHP) in the context of the U.S. Space Shuttle Program (1969-2011) under Criterion A in the areas of Space Exploration and Transportation and under Criterion C in the area of Engineering. Because it has achieved significance within the past fifty years, Criteria Consideration G applies. Under Criterion A, Discovery is significant as the oldest of the three extant orbiter vehicles constructed for the Space Shuttle Program (SSP), the longest running American space program to date; she was the third of five orbiters built by NASA. Unlike the Mercury, Gemini, and Apollo programs, the SSP’s emphasis was on cost effectiveness and reusability, and eventually the construction of a space station. Including her maiden voyage (launched August 30, 1984), Discovery flew to space thirty-nine times, more than any of the other four orbiters; she was also the first orbiter to fly twenty missions. She had the honor of being chosen as the Return to Flight vehicle after both the Challenger and Columbia accidents. Discovery was the first shuttle to fly with the redesigned SRBs, a result of the Challenger accident, and the first shuttle to fly with the Phase II and Block I SSME. Discovery also carried the Hubble Space Telescope to orbit and performed two of the five servicing missions to the observatory. She flew the first and last dedicated Department of Defense (DoD) missions, as well as the first unclassified defense-related mission. In addition, Discovery was vital to the construction of the International Space Station (ISS); she flew thirteen of the thirty-seven total missions flown to the station by a U.S. Space Shuttle. She was the first orbiter to dock to the ISS, and the first to perform an exchange of a resident crew. Under Criterion C, Discovery is significant as a feat of engineering. According to Wayne Hale, a flight director from Johnson Space Center, the Space Shuttle orbiter represents a “huge technological leap from expendable rockets and capsules to a reusable, winged, hypersonic, cargo-carrying spacecraft.” Although her base structure followed a conventional aircraft design, she used advanced materials that both minimized her weight for cargo-carrying purposes and featured low thermal expansion ratios, which provided a stable base for her Thermal Protection System (TPS) materials. The Space Shuttle orbiter also featured the first reusable TPS; all previous spaceflight vehicles had a single-use, ablative heat shield. Other notable engineering achievements of the orbiter included the first reusable orbital propulsion system, and the first two-fault-tolerant Integrated Avionics System. As Hale stated, the Space Shuttle remains “the largest, fastest, winged hypersonic aircraft in history,” having regularly flown at twenty-five times the speed of sound."
      ],
      "metadata": {
        "id": "b2lEs39jhXAH"
      }
    },
    {
      "cell_type": "code",
      "source": [
        "import spacy"
      ],
      "metadata": {
        "id": "nd4lJEP-hUzA"
      },
      "execution_count": 15,
      "outputs": []
    },
    {
      "cell_type": "code",
      "source": [
        "import nltk\n",
        "from nltk.corpus import stopwords\n",
        "from nltk.tokenize import word_tokenize, sent_tokenize"
      ],
      "metadata": {
        "id": "jm0zNZ51tz-a"
      },
      "execution_count": 16,
      "outputs": []
    },
    {
      "cell_type": "code",
      "source": [
        "nlp = spacy.load('en_core_web_sm')"
      ],
      "metadata": {
        "id": "pnuRriLlt_RU"
      },
      "execution_count": 17,
      "outputs": []
    },
    {
      "cell_type": "code",
      "source": [
        "# Текст для обробки\n",
        "text = \"The Orbiter Discovery, OV-103, is considered eligible for listing in the National Register of Historic Places (NRHP) in the context of the U.S. Space Shuttle Program (1969-2011) under Criterion A in the areas of Space Exploration and Transportation and under Criterion C in the area of Engineering. Because it has achieved significance within the past fifty years, Criteria Consideration G applies. Under Criterion A, Discovery is significant as the oldest of the three extant orbiter vehicles constructed for the Space Shuttle Program (SSP), the longest running American space program to date; she was the third of five orbiters built by NASA. Unlike the Mercury, Gemini, and Apollo programs, the SSP’s emphasis was on cost effectiveness and reusability, and eventually the construction of a space station. Including her maiden voyage (launched August 30, 1984), Discovery flew to space thirty-nine times, more than any of the other four orbiters; she was also the first orbiter to fly twenty missions. She had the honor of being chosen as the Return to Flight vehicle after both the Challenger and Columbia accidents. Discovery was the first shuttle to fly with the redesigned SRBs, a result of the Challenger accident, and the first shuttle to fly with the Phase II and Block I SSME. Discovery also carried the Hubble Space Telescope to orbit and performed two of the five servicing missions to the observatory. She flew the first and last dedicated Department of Defense (DoD) missions, as well as the first unclassified defense-related mission. In addition, Discovery was vital to the construction of the International Space Station (ISS); she flew thirteen of the thirty-seven total missions flown to the station by a U.S. Space Shuttle. She was the first orbiter to dock to the ISS, and the first to perform an exchange of a resident crew. Under Criterion C, Discovery is significant as a feat of engineering. According to Wayne Hale, a flight director from Johnson Space Center, the Space Shuttle orbiter represents a “huge technological leap from expendable rockets and capsules to a reusable, winged, hypersonic, cargo-carrying spacecraft.” Although her base structure followed a conventional aircraft design, she used advanced materials that both minimized her weight for cargo-carrying purposes and featured low thermal expansion ratios, which provided a stable base for her Thermal Protection System (TPS) materials. The Space Shuttle orbiter also featured the first reusable TPS; all previous spaceflight vehicles had a single-use, ablative heat shield. Other notable engineering achievements of the orbiter included the first reusable orbital propulsion system, and the first two-fault-tolerant Integrated Avionics System. As Hale stated, the Space Shuttle remains “the largest, fastest, winged hypersonic aircraft in history,” having regularly flown at twenty-five times the speed of sound.\"\n",
        "\n",
        "# Токенізація\n",
        "doc = nlp(text)\n",
        "tokens = [token.text for token in doc]\n",
        "print(tokens)"
      ],
      "metadata": {
        "colab": {
          "base_uri": "https://localhost:8080/"
        },
        "id": "A8dV0U5guMdl",
        "outputId": "3f9dc181-cd21-446b-88b5-b98fb2dba181"
      },
      "execution_count": 18,
      "outputs": [
        {
          "output_type": "stream",
          "name": "stdout",
          "text": [
            "['The', 'Orbiter', 'Discovery', ',', 'OV-103', ',', 'is', 'considered', 'eligible', 'for', 'listing', 'in', 'the', 'National', 'Register', 'of', 'Historic', 'Places', '(', 'NRHP', ')', 'in', 'the', 'context', 'of', 'the', 'U.S.', 'Space', 'Shuttle', 'Program', '(', '1969', '-', '2011', ')', 'under', 'Criterion', 'A', 'in', 'the', 'areas', 'of', 'Space', 'Exploration', 'and', 'Transportation', 'and', 'under', 'Criterion', 'C', 'in', 'the', 'area', 'of', 'Engineering', '.', 'Because', 'it', 'has', 'achieved', 'significance', 'within', 'the', 'past', 'fifty', 'years', ',', 'Criteria', 'Consideration', 'G', 'applies', '.', 'Under', 'Criterion', 'A', ',', 'Discovery', 'is', 'significant', 'as', 'the', 'oldest', 'of', 'the', 'three', 'extant', 'orbiter', 'vehicles', 'constructed', 'for', 'the', 'Space', 'Shuttle', 'Program', '(', 'SSP', ')', ',', 'the', 'longest', 'running', 'American', 'space', 'program', 'to', 'date', ';', 'she', 'was', 'the', 'third', 'of', 'five', 'orbiters', 'built', 'by', 'NASA', '.', 'Unlike', 'the', 'Mercury', ',', 'Gemini', ',', 'and', 'Apollo', 'programs', ',', 'the', 'SSP', '’s', 'emphasis', 'was', 'on', 'cost', 'effectiveness', 'and', 'reusability', ',', 'and', 'eventually', 'the', 'construction', 'of', 'a', 'space', 'station', '.', 'Including', 'her', 'maiden', 'voyage', '(', 'launched', 'August', '30', ',', '1984', ')', ',', 'Discovery', 'flew', 'to', 'space', 'thirty', '-', 'nine', 'times', ',', 'more', 'than', 'any', 'of', 'the', 'other', 'four', 'orbiters', ';', 'she', 'was', 'also', 'the', 'first', 'orbiter', 'to', 'fly', 'twenty', 'missions', '.', 'She', 'had', 'the', 'honor', 'of', 'being', 'chosen', 'as', 'the', 'Return', 'to', 'Flight', 'vehicle', 'after', 'both', 'the', 'Challenger', 'and', 'Columbia', 'accidents', '.', 'Discovery', 'was', 'the', 'first', 'shuttle', 'to', 'fly', 'with', 'the', 'redesigned', 'SRBs', ',', 'a', 'result', 'of', 'the', 'Challenger', 'accident', ',', 'and', 'the', 'first', 'shuttle', 'to', 'fly', 'with', 'the', 'Phase', 'II', 'and', 'Block', 'I', 'SSME', '.', 'Discovery', 'also', 'carried', 'the', 'Hubble', 'Space', 'Telescope', 'to', 'orbit', 'and', 'performed', 'two', 'of', 'the', 'five', 'servicing', 'missions', 'to', 'the', 'observatory', '.', 'She', 'flew', 'the', 'first', 'and', 'last', 'dedicated', 'Department', 'of', 'Defense', '(', 'DoD', ')', 'missions', ',', 'as', 'well', 'as', 'the', 'first', 'unclassified', 'defense', '-', 'related', 'mission', '.', 'In', 'addition', ',', 'Discovery', 'was', 'vital', 'to', 'the', 'construction', 'of', 'the', 'International', 'Space', 'Station', '(', 'ISS', ')', ';', 'she', 'flew', 'thirteen', 'of', 'the', 'thirty', '-', 'seven', 'total', 'missions', 'flown', 'to', 'the', 'station', 'by', 'a', 'U.S.', 'Space', 'Shuttle', '.', 'She', 'was', 'the', 'first', 'orbiter', 'to', 'dock', 'to', 'the', 'ISS', ',', 'and', 'the', 'first', 'to', 'perform', 'an', 'exchange', 'of', 'a', 'resident', 'crew', '.', 'Under', 'Criterion', 'C', ',', 'Discovery', 'is', 'significant', 'as', 'a', 'feat', 'of', 'engineering', '.', 'According', 'to', 'Wayne', 'Hale', ',', 'a', 'flight', 'director', 'from', 'Johnson', 'Space', 'Center', ',', 'the', 'Space', 'Shuttle', 'orbiter', 'represents', 'a', '“', 'huge', 'technological', 'leap', 'from', 'expendable', 'rockets', 'and', 'capsules', 'to', 'a', 'reusable', ',', 'winged', ',', 'hypersonic', ',', 'cargo', '-', 'carrying', 'spacecraft', '.', '”', 'Although', 'her', 'base', 'structure', 'followed', 'a', 'conventional', 'aircraft', 'design', ',', 'she', 'used', 'advanced', 'materials', 'that', 'both', 'minimized', 'her', 'weight', 'for', 'cargo', '-', 'carrying', 'purposes', 'and', 'featured', 'low', 'thermal', 'expansion', 'ratios', ',', 'which', 'provided', 'a', 'stable', 'base', 'for', 'her', 'Thermal', 'Protection', 'System', '(', 'TPS', ')', 'materials', '.', 'The', 'Space', 'Shuttle', 'orbiter', 'also', 'featured', 'the', 'first', 'reusable', 'TPS', ';', 'all', 'previous', 'spaceflight', 'vehicles', 'had', 'a', 'single', '-', 'use', ',', 'ablative', 'heat', 'shield', '.', 'Other', 'notable', 'engineering', 'achievements', 'of', 'the', 'orbiter', 'included', 'the', 'first', 'reusable', 'orbital', 'propulsion', 'system', ',', 'and', 'the', 'first', 'two', '-', 'fault', '-', 'tolerant', 'Integrated', 'Avionics', 'System', '.', 'As', 'Hale', 'stated', ',', 'the', 'Space', 'Shuttle', 'remains', '“', 'the', 'largest', ',', 'fastest', ',', 'winged', 'hypersonic', 'aircraft', 'in', 'history', ',', '”', 'having', 'regularly', 'flown', 'at', 'twenty', '-', 'five', 'times', 'the', 'speed', 'of', 'sound', '.']\n"
          ]
        }
      ]
    },
    {
      "cell_type": "code",
      "source": [
        "nltk.download('punkt')"
      ],
      "metadata": {
        "colab": {
          "base_uri": "https://localhost:8080/"
        },
        "id": "XtbtgrM1Ix3w",
        "outputId": "2dcb1411-6b2f-447a-bec1-b9bf1c794c0d"
      },
      "execution_count": 19,
      "outputs": [
        {
          "output_type": "stream",
          "name": "stderr",
          "text": [
            "[nltk_data] Downloading package punkt to /root/nltk_data...\n",
            "[nltk_data]   Package punkt is already up-to-date!\n"
          ]
        },
        {
          "output_type": "execute_result",
          "data": {
            "text/plain": [
              "True"
            ]
          },
          "metadata": {},
          "execution_count": 19
        }
      ]
    },
    {
      "cell_type": "code",
      "source": [
        "nltk.download('stopwords')"
      ],
      "metadata": {
        "colab": {
          "base_uri": "https://localhost:8080/"
        },
        "id": "Y6mnEDHuI7km",
        "outputId": "647e1ae1-057f-4a4a-b6d8-6a13803f7dc3"
      },
      "execution_count": 20,
      "outputs": [
        {
          "output_type": "stream",
          "name": "stderr",
          "text": [
            "[nltk_data] Downloading package stopwords to /root/nltk_data...\n",
            "[nltk_data]   Package stopwords is already up-to-date!\n"
          ]
        },
        {
          "output_type": "execute_result",
          "data": {
            "text/plain": [
              "True"
            ]
          },
          "metadata": {},
          "execution_count": 20
        }
      ]
    },
    {
      "cell_type": "code",
      "source": [
        "tokens = word_tokenize(text)\n",
        "stop_words = set(stopwords.words('english'))\n",
        "filtered_tokens = [word for word in tokens if word.lower() not in stop_words and word.isalnum()]\n"
      ],
      "metadata": {
        "id": "71beHhcwxHKb"
      },
      "execution_count": 21,
      "outputs": []
    },
    {
      "cell_type": "code",
      "source": [
        "tokens = word_tokenize(text)\n",
        "sentences = sent_tokenize(text)\n",
        "stop_words = set(stopwords.words('english'))"
      ],
      "metadata": {
        "id": "pjB7D-ROulgq"
      },
      "execution_count": 22,
      "outputs": []
    },
    {
      "cell_type": "code",
      "source": [
        "import string\n",
        "punctuation = string.punctuation + '\\n'"
      ],
      "metadata": {
        "id": "f45eOTrXH2bM"
      },
      "execution_count": 25,
      "outputs": []
    },
    {
      "cell_type": "code",
      "source": [
        "word_frequencies = {}\n",
        "for word in doc:\n",
        "  if word.text.lower() not in stop_words:\n",
        "    if word.text.lower() not in punctuation:\n",
        "      if word.text not in word_frequencies.keys():\n",
        "        word_frequencies[word.text] = 1\n",
        "      else:\n",
        "        word_frequencies[word.text] += 1"
      ],
      "metadata": {
        "id": "f_-STjsNJ5I0"
      },
      "execution_count": 27,
      "outputs": []
    },
    {
      "cell_type": "markdown",
      "source": [
        "Бібліотека heapq"
      ],
      "metadata": {
        "id": "UixpzS4IMZD3"
      }
    },
    {
      "cell_type": "code",
      "source": [
        "from heapq import nlargest"
      ],
      "metadata": {
        "id": "1dwFLZRpMatT"
      },
      "execution_count": 28,
      "outputs": []
    },
    {
      "cell_type": "code",
      "source": [
        "total_words = sum(word_frequencies.values())\n",
        "\n",
        "sentence_scores = {}\n",
        "for sentence in doc.sents:\n",
        "    for word in sentence:\n",
        "        if word.text in word_frequencies:\n",
        "            sentence_scores[sentence.text] = sentence_scores.get(sentence.text, 0) + word_frequencies[word.text] / total_words\n"
      ],
      "metadata": {
        "id": "v-4KaCSXPlTp"
      },
      "execution_count": 29,
      "outputs": []
    },
    {
      "cell_type": "code",
      "source": [
        "select_length = int(len(sentences))\n",
        "summary = nlargest(select_length, sentence_scores, key = sentence_scores.get)\n",
        "summary"
      ],
      "metadata": {
        "colab": {
          "base_uri": "https://localhost:8080/"
        },
        "id": "xj6VauVWNXXT",
        "outputId": "a3a2e5cf-12d3-4631-e7a0-9a7e2e9e9103"
      },
      "execution_count": 30,
      "outputs": [
        {
          "output_type": "execute_result",
          "data": {
            "text/plain": [
              "['The Orbiter Discovery, OV-103, is considered eligible for listing in the National Register of Historic Places (NRHP) in the context of the U.S. Space Shuttle Program (1969-2011) under Criterion A in the areas of Space Exploration and Transportation and under Criterion C in the area of Engineering.',\n",
              " 'According to Wayne Hale, a flight director from Johnson Space Center, the Space Shuttle orbiter represents a “huge technological leap from expendable rockets and capsules to a reusable, winged, hypersonic, cargo-carrying spacecraft.”',\n",
              " 'Under Criterion A, Discovery is significant as the oldest of the three extant orbiter vehicles constructed for the Space Shuttle Program (SSP), the longest running American space program to date; she was the third of five orbiters built by NASA.',\n",
              " 'In addition, Discovery was vital to the construction of the International Space Station (ISS); she flew thirteen of the thirty-seven total missions flown to the station by a U.S. Space Shuttle.',\n",
              " 'Including her maiden voyage (launched August 30, 1984), Discovery flew to space thirty-nine times, more than any of the other four orbiters; she was also the first orbiter to fly twenty missions.',\n",
              " 'The Space Shuttle orbiter also featured the first reusable TPS; all previous spaceflight vehicles had a single-use, ablative heat shield.',\n",
              " 'Discovery was the first shuttle to fly with the redesigned SRBs, a result of the Challenger accident, and the first shuttle to fly with the Phase II and Block I SSME.',\n",
              " 'Other notable engineering achievements of the orbiter included the first reusable orbital propulsion system, and the first two-fault-tolerant Integrated Avionics System.',\n",
              " 'As Hale stated, the Space Shuttle remains “the largest, fastest, winged hypersonic aircraft in history,” having regularly flown at twenty-five times the speed of sound.',\n",
              " 'Although her base structure followed a conventional aircraft design, she used advanced materials that both minimized her weight for cargo-carrying purposes and featured low thermal expansion ratios, which provided a stable base for her Thermal Protection System (TPS) materials.',\n",
              " 'She flew the first and last dedicated Department of Defense (DoD) missions, as well as the first unclassified defense-related mission.',\n",
              " 'Discovery also carried the Hubble Space Telescope to orbit and performed two of the five servicing missions to the observatory.',\n",
              " 'She was the first orbiter to dock to the ISS, and the first to perform an exchange of a resident crew.',\n",
              " 'Unlike the Mercury, Gemini, and Apollo programs, the SSP’s emphasis was on cost effectiveness and reusability, and eventually the construction of a space station.',\n",
              " 'Under Criterion C, Discovery is significant as a feat of engineering.',\n",
              " 'Because it has achieved significance within the past fifty years, Criteria Consideration G applies.']"
            ]
          },
          "metadata": {},
          "execution_count": 30
        }
      ]
    },
    {
      "cell_type": "code",
      "source": [],
      "metadata": {
        "id": "MUas3_7oN2PP"
      },
      "execution_count": null,
      "outputs": []
    }
  ]
}